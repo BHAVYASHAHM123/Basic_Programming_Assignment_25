{
  "nbformat": 4,
  "nbformat_minor": 0,
  "metadata": {
    "colab": {
      "name": "Basic_Programming_Assignment_25.ipynb",
      "provenance": []
    },
    "kernelspec": {
      "name": "python3",
      "display_name": "Python 3"
    },
    "language_info": {
      "name": "python"
    }
  },
  "cells": [
    {
      "cell_type": "markdown",
      "source": [
        "Q1) \n",
        "Create a function that takes three integer arguments (a, b, c) and returns the amount of\n",
        "integers which are of equal value.\n",
        "Examples\n",
        "equal(3, 4, 3) ➞ 2\n",
        "equal(1, 1, 1) ➞ 3\n",
        "equal(3, 4, 1) ➞ 0\n",
        "Notes\n",
        "Your function must return 0, 2 or 3."
      ],
      "metadata": {
        "id": "e2QxgT6fa4IL"
      }
    },
    {
      "cell_type": "code",
      "execution_count": 1,
      "metadata": {
        "colab": {
          "base_uri": "https://localhost:8080/"
        },
        "id": "mwmsn7NxaxcG",
        "outputId": "fa6a6159-3ac1-4372-cfae-3990ecfb80e2"
      },
      "outputs": [
        {
          "output_type": "execute_result",
          "data": {
            "text/plain": [
              "2"
            ]
          },
          "metadata": {},
          "execution_count": 1
        }
      ],
      "source": [
        "def equal(a,b,c):\n",
        "    num = 0\n",
        "    if a == b and a == c :\n",
        "        num = 3\n",
        "    elif a == b or a == c :\n",
        "        num = 2\n",
        "    else:\n",
        "        num = 0\n",
        "    return num\n",
        "equal(3, 4, 3)"
      ]
    },
    {
      "cell_type": "code",
      "source": [
        "equal(3, 4, 3)\n"
      ],
      "metadata": {
        "colab": {
          "base_uri": "https://localhost:8080/"
        },
        "id": "iuvTVIn0a7AH",
        "outputId": "71d21e8d-1b62-4b59-ad1c-900d2d247235"
      },
      "execution_count": 2,
      "outputs": [
        {
          "output_type": "execute_result",
          "data": {
            "text/plain": [
              "2"
            ]
          },
          "metadata": {},
          "execution_count": 2
        }
      ]
    },
    {
      "cell_type": "code",
      "source": [
        "equal(1, 1, 1)\n"
      ],
      "metadata": {
        "colab": {
          "base_uri": "https://localhost:8080/"
        },
        "id": "OpqdS4mMa8dJ",
        "outputId": "92e88680-66b6-43f9-9781-8ef2575a9f71"
      },
      "execution_count": 3,
      "outputs": [
        {
          "output_type": "execute_result",
          "data": {
            "text/plain": [
              "3"
            ]
          },
          "metadata": {},
          "execution_count": 3
        }
      ]
    },
    {
      "cell_type": "code",
      "source": [
        "equal(3, 4, 1)\n"
      ],
      "metadata": {
        "colab": {
          "base_uri": "https://localhost:8080/"
        },
        "id": "v8TT5zzpa928",
        "outputId": "4a790efd-2619-42ff-cd09-820320e6dd37"
      },
      "execution_count": 4,
      "outputs": [
        {
          "output_type": "execute_result",
          "data": {
            "text/plain": [
              "0"
            ]
          },
          "metadata": {},
          "execution_count": 4
        }
      ]
    },
    {
      "cell_type": "markdown",
      "source": [
        "Q2) \n",
        "Write a function that converts a dictionary into a list of keys-values tuples.\n",
        "Examples\n",
        "dict_to_list({\n",
        "'D': 1,\n",
        "'B': 2,\n",
        "'C': 3\n",
        "}) ➞ [('B', 2), ('C', 3), ('D', 1)]\n",
        "dict_to_list({\n",
        "'likes': 2,\n",
        "'dislikes': 3,\n",
        "'followers': 10\n",
        "}) ➞ [('dislikes', 3), ('followers', 10), ('likes', 2)]\n",
        "Notes\n",
        "Return the elements in the list in alphabetical order."
      ],
      "metadata": {
        "id": "PG7n0yf9bCt9"
      }
    },
    {
      "cell_type": "code",
      "source": [
        "def dict_to_list(d):\n",
        "    return list(d.items())"
      ],
      "metadata": {
        "id": "FbHf7GRta_cv"
      },
      "execution_count": 6,
      "outputs": []
    },
    {
      "cell_type": "code",
      "source": [
        "dict_to_list({\n",
        "    'D': 1,\n",
        "    'B': 2,\n",
        "    'C': 3\n",
        "    })"
      ],
      "metadata": {
        "colab": {
          "base_uri": "https://localhost:8080/"
        },
        "id": "h5cPJrSibGnY",
        "outputId": "054376c0-964d-4e9f-858a-7d5e5af647b0"
      },
      "execution_count": 7,
      "outputs": [
        {
          "output_type": "execute_result",
          "data": {
            "text/plain": [
              "[('D', 1), ('B', 2), ('C', 3)]"
            ]
          },
          "metadata": {},
          "execution_count": 7
        }
      ]
    },
    {
      "cell_type": "code",
      "source": [
        "dict_to_list({\n",
        "    'likes': 2,\n",
        "    'dislikes': 3,\n",
        "    'followers': 10\n",
        "    })"
      ],
      "metadata": {
        "colab": {
          "base_uri": "https://localhost:8080/"
        },
        "id": "sz8jTIfqbIRK",
        "outputId": "eb1d780b-ecd5-4ce9-d5ff-901cd4dae4c6"
      },
      "execution_count": 8,
      "outputs": [
        {
          "output_type": "execute_result",
          "data": {
            "text/plain": [
              "[('likes', 2), ('dislikes', 3), ('followers', 10)]"
            ]
          },
          "metadata": {},
          "execution_count": 8
        }
      ]
    },
    {
      "cell_type": "markdown",
      "source": [
        "Q3) \n",
        "Write a function that creates a dictionary with each (key, value) pair being the (lower case,\n",
        "upper case) versions of a letter, respectively.\n",
        "Examples\n",
        "mapping(['p', 's']) ➞ { 'p': 'P', 's': 'S' }\n",
        "\n",
        "mapping(['a', 'b', 'c']) ➞ { 'a': 'A', 'b': 'B', 'c': 'C' }\n",
        "mapping(['a', 'v', 'y', 'z']) ➞ { 'a': 'A', 'v': 'V', 'y': 'Y', 'z': 'Z' }\n",
        "Notes\n",
        "All of the letters in the input list will always be lowercase."
      ],
      "metadata": {
        "id": "1qfsi1dSbY6e"
      }
    },
    {
      "cell_type": "code",
      "source": [
        "def mapping(lst):\n",
        "    return {v.lower():v.upper() for v in lst}"
      ],
      "metadata": {
        "id": "-YPEPRs0bKbM"
      },
      "execution_count": 9,
      "outputs": []
    },
    {
      "cell_type": "code",
      "source": [
        "mapping(['p', 's'])\n"
      ],
      "metadata": {
        "colab": {
          "base_uri": "https://localhost:8080/"
        },
        "id": "tPRfl_eZbcMy",
        "outputId": "ea118aac-a765-4b39-dc17-5347515d76f5"
      },
      "execution_count": 10,
      "outputs": [
        {
          "output_type": "execute_result",
          "data": {
            "text/plain": [
              "{'p': 'P', 's': 'S'}"
            ]
          },
          "metadata": {},
          "execution_count": 10
        }
      ]
    },
    {
      "cell_type": "code",
      "source": [
        "mapping(['a', 'b', 'c'])\n"
      ],
      "metadata": {
        "colab": {
          "base_uri": "https://localhost:8080/"
        },
        "id": "zkPuC4Djbdra",
        "outputId": "6600abdd-a279-4be1-be9d-bb7f152d8418"
      },
      "execution_count": 11,
      "outputs": [
        {
          "output_type": "execute_result",
          "data": {
            "text/plain": [
              "{'a': 'A', 'b': 'B', 'c': 'C'}"
            ]
          },
          "metadata": {},
          "execution_count": 11
        }
      ]
    },
    {
      "cell_type": "code",
      "source": [
        "mapping(['a', 'v', 'y', 'z'])\n"
      ],
      "metadata": {
        "colab": {
          "base_uri": "https://localhost:8080/"
        },
        "id": "KsLUmrz1bfPh",
        "outputId": "5d421daa-d56f-4310-bd00-f732e75a0d27"
      },
      "execution_count": 12,
      "outputs": [
        {
          "output_type": "execute_result",
          "data": {
            "text/plain": [
              "{'a': 'A', 'v': 'V', 'y': 'Y', 'z': 'Z'}"
            ]
          },
          "metadata": {},
          "execution_count": 12
        }
      ]
    },
    {
      "cell_type": "code",
      "source": [
        "mapping(['A', 'v', 'Y', 'z'])\n"
      ],
      "metadata": {
        "colab": {
          "base_uri": "https://localhost:8080/"
        },
        "id": "gUW2803Dbg5B",
        "outputId": "7cdd0a39-e207-4e74-f0cc-cbef3fc813f8"
      },
      "execution_count": 13,
      "outputs": [
        {
          "output_type": "execute_result",
          "data": {
            "text/plain": [
              "{'a': 'A', 'v': 'V', 'y': 'Y', 'z': 'Z'}"
            ]
          },
          "metadata": {},
          "execution_count": 13
        }
      ]
    },
    {
      "cell_type": "markdown",
      "source": [
        "Q4) \n",
        "Write a function, that replaces all vowels in a string with a specified vowel.\n",
        "Examples\n",
        "vow_replace('apples and bananas', 'u') ➞ 'upplus und bununus'\n",
        "vow_replace('cheese casserole', 'o') ➞ 'chooso cossorolo'\n",
        "vow_replace('stuffed jalapeno poppers', 'e') ➞ 'steffed jelepene peppers'\n",
        "Notes\n",
        "All words will be lowercase. Y is not considered a vowel."
      ],
      "metadata": {
        "id": "Ijgc4rjAbk0A"
      }
    },
    {
      "cell_type": "code",
      "source": [
        "def vow_replace(s,ch):\n",
        "    vowel ='AEIOUaeiuo'\n",
        "    s1 = []\n",
        "    for i in range(len(s)):\n",
        "        if s[i] in vowel:\n",
        "            s1.append(ch)\n",
        "        else:\n",
        "            s1.append(s[i])\n",
        "\n",
        "    return ''.join((s1))"
      ],
      "metadata": {
        "id": "SsNshSikbiLc"
      },
      "execution_count": 14,
      "outputs": []
    },
    {
      "cell_type": "code",
      "source": [
        "vow_replace('apples and bananas', 'u')\n"
      ],
      "metadata": {
        "colab": {
          "base_uri": "https://localhost:8080/",
          "height": 36
        },
        "id": "_1NFpva8bnAK",
        "outputId": "8347236b-ab00-439a-93ea-b3a6a6068810"
      },
      "execution_count": 15,
      "outputs": [
        {
          "output_type": "execute_result",
          "data": {
            "text/plain": [
              "'upplus und bununus'"
            ],
            "application/vnd.google.colaboratory.intrinsic+json": {
              "type": "string"
            }
          },
          "metadata": {},
          "execution_count": 15
        }
      ]
    },
    {
      "cell_type": "code",
      "source": [
        "vow_replace('cheese casserole', 'o')\n"
      ],
      "metadata": {
        "colab": {
          "base_uri": "https://localhost:8080/",
          "height": 36
        },
        "id": "wMS6i0JzbwYu",
        "outputId": "650a1f3f-e4f8-45eb-e674-c1cdc3a36ac3"
      },
      "execution_count": 16,
      "outputs": [
        {
          "output_type": "execute_result",
          "data": {
            "text/plain": [
              "'chooso cossorolo'"
            ],
            "application/vnd.google.colaboratory.intrinsic+json": {
              "type": "string"
            }
          },
          "metadata": {},
          "execution_count": 16
        }
      ]
    },
    {
      "cell_type": "code",
      "source": [
        "vow_replace('stuffed jalapeno poppers', 'e')\n"
      ],
      "metadata": {
        "colab": {
          "base_uri": "https://localhost:8080/",
          "height": 36
        },
        "id": "RwK-EyN5bxqK",
        "outputId": "147e0bf0-1250-486e-a2a4-1b940d8cd412"
      },
      "execution_count": 17,
      "outputs": [
        {
          "output_type": "execute_result",
          "data": {
            "text/plain": [
              "'steffed jelepene peppers'"
            ],
            "application/vnd.google.colaboratory.intrinsic+json": {
              "type": "string"
            }
          },
          "metadata": {},
          "execution_count": 17
        }
      ]
    },
    {
      "cell_type": "markdown",
      "source": [
        "Q5) \n",
        "Create a function that takes a string as input and capitalizes a letter if its ASCII code is even\n",
        "and returns its lower case version if its ASCII code is odd.\n",
        "Examples\n",
        "ascii_capitalize('to be or not to be!') ➞ 'To Be oR NoT To Be!'\n",
        "ascii_capitalize('THE LITTLE MERMAID') ➞ 'THe LiTTLe meRmaiD'\n",
        "ascii_capitalize('Oh what a beautiful morning.') ➞ 'oH wHaT a BeauTiFuL\n",
        "moRNiNg.'"
      ],
      "metadata": {
        "id": "CzZyn66Ebzzo"
      }
    },
    {
      "cell_type": "code",
      "source": [
        "def ascii_capitalize(s):\n",
        "    s1 = []\n",
        "    for i in range(len(s)):\n",
        "        if ord(s[i]) % 2 == 0:\n",
        "            s1.append(s[i].upper())\n",
        "        else:\n",
        "            s1.append(s[i].lower())\n",
        "\n",
        "    return \"\".join((s1))"
      ],
      "metadata": {
        "id": "-n1PDjKFbzKK"
      },
      "execution_count": 18,
      "outputs": []
    },
    {
      "cell_type": "code",
      "source": [
        "ascii_capitalize('to be or not to be!')\n"
      ],
      "metadata": {
        "colab": {
          "base_uri": "https://localhost:8080/",
          "height": 36
        },
        "id": "rtCTK8oob6Xt",
        "outputId": "517d7745-084f-40cb-f9a5-dc0c39e37761"
      },
      "execution_count": 19,
      "outputs": [
        {
          "output_type": "execute_result",
          "data": {
            "text/plain": [
              "'To Be oR NoT To Be!'"
            ],
            "application/vnd.google.colaboratory.intrinsic+json": {
              "type": "string"
            }
          },
          "metadata": {},
          "execution_count": 19
        }
      ]
    },
    {
      "cell_type": "code",
      "source": [
        "ascii_capitalize('THE LITTLE MERMAID')\n"
      ],
      "metadata": {
        "colab": {
          "base_uri": "https://localhost:8080/",
          "height": 36
        },
        "id": "TxkftmdSb7zd",
        "outputId": "df386112-e24f-4784-b331-0ae85454d978"
      },
      "execution_count": 20,
      "outputs": [
        {
          "output_type": "execute_result",
          "data": {
            "text/plain": [
              "'THe LiTTLe meRmaiD'"
            ],
            "application/vnd.google.colaboratory.intrinsic+json": {
              "type": "string"
            }
          },
          "metadata": {},
          "execution_count": 20
        }
      ]
    },
    {
      "cell_type": "code",
      "source": [
        "ascii_capitalize('Oh what a beautiful morning.')\n"
      ],
      "metadata": {
        "colab": {
          "base_uri": "https://localhost:8080/",
          "height": 36
        },
        "id": "EYaM2lrxb9f_",
        "outputId": "db7e8ff6-6253-4790-f22c-2cc70d88d8a9"
      },
      "execution_count": 21,
      "outputs": [
        {
          "output_type": "execute_result",
          "data": {
            "text/plain": [
              "'oH wHaT a BeauTiFuL moRNiNg.'"
            ],
            "application/vnd.google.colaboratory.intrinsic+json": {
              "type": "string"
            }
          },
          "metadata": {},
          "execution_count": 21
        }
      ]
    },
    {
      "cell_type": "code",
      "source": [
        ""
      ],
      "metadata": {
        "id": "Dl8IqnW_b-7O"
      },
      "execution_count": null,
      "outputs": []
    }
  ]
}